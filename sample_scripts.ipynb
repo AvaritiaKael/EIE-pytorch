{
 "cells": [
  {
   "cell_type": "code",
   "execution_count": 10,
   "metadata": {},
   "outputs": [],
   "source": [
    "import torch\n",
    "from EIE_module import Module\n",
    "from alexnet import alexnet\n",
    "from sklearn.cluster import KMeans\n",
    "import matplotlib.pyplot as plt \n",
    "%matplotlib inline"
   ]
  },
  {
   "cell_type": "code",
   "execution_count": 2,
   "metadata": {
    "scrolled": true
   },
   "outputs": [
    {
     "name": "stdout",
     "output_type": "stream",
     "text": [
      "<class 'alexnet.AlexNet'>\n",
      "features.0.weight 23232\n",
      "features.0.bias 64\n",
      "features.3.weight 307200\n",
      "features.3.bias 192\n",
      "features.6.weight 663552\n",
      "features.6.bias 384\n",
      "features.8.weight 884736\n",
      "features.8.bias 256\n",
      "features.10.weight 589824\n",
      "features.10.bias 256\n",
      "classifier.1.weight 37748736\n",
      "classifier.1.bias 4096\n",
      "classifier.4.weight 16777216\n",
      "classifier.4.bias 4096\n",
      "classifier.6.weight 4096000\n",
      "classifier.6.bias 1000\n"
     ]
    }
   ],
   "source": [
    "net = alexnet(pretrained=True)\n",
    "print(type(net))\n",
    "seq = None\n",
    "for name, c in net.named_param_list():\n",
    "    print(name, c.nelement())\n",
    "    data = c.view(-1)\n",
    "    if seq is None:\n",
    "        seq = data\n",
    "    else:\n",
    "        seq = torch.cat((seq, data), 0)"
   ]
  },
  {
   "cell_type": "code",
   "execution_count": null,
   "metadata": {
    "collapsed": true
   },
   "outputs": [],
   "source": []
  },
  {
   "cell_type": "code",
   "execution_count": 42,
   "metadata": {},
   "outputs": [
    {
     "name": "stdout",
     "output_type": "stream",
     "text": [
      "weight 200\n",
      "bias 10\n"
     ]
    }
   ],
   "source": [
    "seq = None\n",
    "net = torch.nn.Linear(20, 10)\n",
    "for name, c in net.named_param_list():\n",
    "    print(name, c.nelement())\n",
    "    data = c.view(-1)\n",
    "    if seq is None:\n",
    "        seq = data\n",
    "    else:\n",
    "        seq = torch.cat((seq, data), 0)"
   ]
  },
  {
   "cell_type": "code",
   "execution_count": 43,
   "metadata": {},
   "outputs": [],
   "source": [
    "data = seq.numpy().reshape(-1, 1)"
   ]
  },
  {
   "cell_type": "code",
   "execution_count": 44,
   "metadata": {},
   "outputs": [
    {
     "data": {
      "text/plain": [
       "(210, 1)"
      ]
     },
     "execution_count": 44,
     "metadata": {},
     "output_type": "execute_result"
    }
   ],
   "source": [
    "data.shape"
   ]
  },
  {
   "cell_type": "code",
   "execution_count": 45,
   "metadata": {},
   "outputs": [
    {
     "data": {
      "image/png": "[encoded data removed]",
      "text/plain": [
       "<matplotlib.figure.Figure at 0x12165d240>"
      ]
     },
     "metadata": {},
     "output_type": "display_data"
    }
   ],
   "source": [
    "plt.hist(data, bins=50);"
   ]
  },
  {
   "cell_type": "code",
   "execution_count": 48,
   "metadata": {},
   "outputs": [
    {
     "data": {
      "text/plain": [
       "array([6, 1, 1, 3, 0, 0, 7, 4, 1, 3, 4, 1, 3, 7, 6, 5, 0, 1, 0, 4, 1, 1, 7,\n",
       "       7, 6, 5, 4, 0, 3, 1, 7, 1, 6, 3, 3, 1, 0, 4, 3, 1, 3, 4, 2, 1, 7, 0,\n",
       "       4, 0, 4, 1, 0, 4, 4, 7, 6, 2, 5, 1, 5, 6, 1, 5, 5, 3, 5, 3, 7, 6, 0,\n",
       "       3, 5, 4, 1, 5, 7, 4, 0, 6, 5, 5, 6, 3, 6, 1, 3, 1, 6, 3, 3, 2, 1, 1,\n",
       "       4, 3, 6, 5, 6, 3, 6, 6, 5, 1, 0, 0, 2, 4, 3, 6, 6, 3, 3, 6, 0, 2, 0,\n",
       "       7, 5, 6, 7, 3, 0, 2, 2, 5, 1, 1, 5, 4, 2, 2, 2, 3, 5, 6, 5, 2, 3, 5,\n",
       "       4, 5, 4, 6, 1, 1, 3, 2, 6, 4, 5, 7, 4, 3, 6, 1, 5, 4, 1, 3, 4, 6, 3,\n",
       "       6, 6, 5, 3, 3, 6, 1, 2, 5, 2, 2, 5, 7, 1, 1, 1, 7, 2, 4, 4, 0, 4, 7,\n",
       "       0, 6, 1, 0, 5, 4, 2, 5, 5, 3, 0, 7, 1, 6, 3, 0, 5, 2, 1, 5, 0, 5, 3,\n",
       "       0, 4, 7], dtype=int32)"
      ]
     },
     "execution_count": 48,
     "metadata": {},
     "output_type": "execute_result"
    }
   ],
   "source": [
    "kmean = KMeans(n_clusters=8, random_state=0).fit(data)\n",
    "kmean.labels_"
   ]
  },
  {
   "cell_type": "code",
   "execution_count": 49,
   "metadata": {},
   "outputs": [
    {
     "data": {
      "text/plain": [
       "torch.ByteTensor"
      ]
     },
     "execution_count": 49,
     "metadata": {},
     "output_type": "execute_result"
    }
   ],
   "source": [
    "torch.ByteTensor"
   ]
  },
  {
   "cell_type": "code",
   "execution_count": null,
   "metadata": {
    "collapsed": true
   },
   "outputs": [],
   "source": []
  }
 ],
 "metadata": {
  "kernelspec": {
   "display_name": "Python 3",
   "language": "python",
   "name": "python3"
  },
  "language_info": {
   "codemirror_mode": {
    "name": "ipython",
    "version": 3
   },
   "file_extension": ".py",
   "mimetype": "text/x-python",
   "name": "python",
   "nbconvert_exporter": "python",
   "pygments_lexer": "ipython3",
   "version": "3.6.1"
  }
 },
 "nbformat": 4,
 "nbformat_minor": 2
}
